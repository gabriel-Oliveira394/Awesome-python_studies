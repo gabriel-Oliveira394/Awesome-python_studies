{
 "cells": [
  {
   "cell_type": "markdown",
   "metadata": {},
   "source": [
    "https://www.digitalocean.com/community/tutorial_series/object-oriented-programming-in-python-3"
   ]
  },
  {
   "cell_type": "markdown",
   "metadata": {},
   "source": [
    "# Introduction\n",
    "\n",
    "Python is an **object-oriented programming language**. Object-oriented programming (OOP) focuses on creating reusable patterns of code, in contrast to **procedural programming**, which focuses on explicit sequenced instructions. When working on complex programs in particular, object-oriented programming lets you reuse code and write code that is more readable, which in turn makes it more maintainable.\n",
    "\n",
    "One of the most important concepts in object-oriented programming is the distinction between classes and objects, which are defined as follows:\n",
    "\n",
    "* **Class** — A blueprint created by a programmer for an object. This defines a set of attributes that will characterize any object that is instantiated from this class.\n",
    "\n",
    "* **Object** — An instance of a class. This is the realized version of the class, where the class is manifested in the program.\n",
    "\n",
    "These are used to create patterns (in the case of classes) and then make use of the patterns (in the case of objects).\n",
    "\n",
    "In this tutorial, we’ll go through **creating classes, instantiating objects, initializing attributes** with the constructor method, and working with more than one object of the same class."
   ]
  },
  {
   "cell_type": "markdown",
   "metadata": {},
   "source": [
    "### Prerequisites\n",
    "You should have Python 3 installed and a programming environment set up on your computer or server. If you don’t have a programming environment set up, you can refer to the installation and setup guides for a local programming environment or for a programming environment on your server appropriate for your operating system (Ubuntu, CentOS, Debian, etc.)"
   ]
  },
  {
   "cell_type": "markdown",
   "metadata": {},
   "source": [
    "### Classes\n",
    "Classes are like a blueprint or a prototype that you can define to use to **create objects**.\n",
    "\n",
    "We define classes by using the ```class``` keyword, similar to how we define functions by using the ```def``` keyword.\n",
    "\n",
    "Let’s define a class called ```Shark``` that has two functions associated with it, one for swimming and one for being awesome:\n",
    "\n",
    "\n",
    "Because these functions are indented under the class ```Shark```, they are called methods. Methods are a special kind of function that are defined within a class."
   ]
  },
  {
   "cell_type": "code",
   "execution_count": 8,
   "metadata": {},
   "outputs": [],
   "source": [
    "class Shark:\n",
    "    def swim(self):\n",
    "        print(\"The shark is swimming.\")\n",
    "        \n",
    "    def be_awesome(self):\n",
    "        print(\"The shark is being awesome.\")"
   ]
  },
  {
   "cell_type": "markdown",
   "metadata": {},
   "source": [
    "The argument to these functions is the word ```self```, which is a reference to objects that are made based on this class. To reference instances (or objects) of the class, ```self``` will always be the first parameter, but it need not be the only one.\n",
    "\n",
    "Defining this class did not create any ```Shark``` objects, only the pattern for a ```Shark``` object that we can define later. That is, if you run the program above at this stage nothing will be returned.\n",
    "\n",
    "Creating the ```Shark``` class above provided us with a blueprint for an object."
   ]
  },
  {
   "cell_type": "markdown",
   "metadata": {},
   "source": [
    "# Objects\n",
    "An object is an instance of a class. We can take the ```Shark``` class defined above, and use it to create an object or instance of it.\n",
    "\n",
    "We’ll make a ```Shark``` object called ```sammy```:"
   ]
  },
  {
   "cell_type": "code",
   "execution_count": 6,
   "metadata": {},
   "outputs": [],
   "source": [
    "sammy = Shark()"
   ]
  },
  {
   "cell_type": "markdown",
   "metadata": {},
   "source": [
    "Here, we initialized the object ```sammy``` as an instance of the class by setting it equal to ```Shark()```.\n",
    "\n",
    "Now, let’s use the two methods with the ```Shark``` object ```sammy```:"
   ]
  },
  {
   "cell_type": "code",
   "execution_count": 11,
   "metadata": {},
   "outputs": [
    {
     "name": "stdout",
     "output_type": "stream",
     "text": [
      "The shark is swimming.\n",
      "The shark is being awesome.\n"
     ]
    }
   ],
   "source": [
    "sammy = Shark()\n",
    "sammy.swim()\n",
    "sammy.be_awesome()"
   ]
  },
  {
   "cell_type": "markdown",
   "metadata": {},
   "source": [
    "The ```Shark``` object ```sammy``` is using the two methods ```swim()``` and ```be_awesome()```. We called these using the dot operator (```.```), which is used to reference an attribute of the object. In this case, the attribute is a method and it’s called with parentheses, like how you would also call with a function.\n",
    "\n",
    "Because the keyword ```self``` was a parameter of the methods as defined in the ```Shark``` class, the ```sammy``` object gets passed to the methods. The ```self``` parameter ensures that the methods have a way of referring to object attributes.\n",
    "\n",
    "When we call the methods, however, nothing is passed inside the parentheses, the object ```sammy``` is being automatically passed with the dot operator.\n",
    "\n",
    "Let’s add the object within the context of a program:\n",
    "\n",
    "The object ```sammy``` calls the two methods in the ```main()``` function of the program, causing those methods to run."
   ]
  },
  {
   "cell_type": "code",
   "execution_count": 16,
   "metadata": {},
   "outputs": [
    {
     "name": "stdout",
     "output_type": "stream",
     "text": [
      "The shark is swimming.\n",
      "The shark is being awesome.\n"
     ]
    }
   ],
   "source": [
    "class Shark:\n",
    "    def swim(self):\n",
    "        print(\"The shark is swimming.\")\n",
    "        \n",
    "    def be_awesome(self):\n",
    "        print(\"The shark is being awesome.\")\n",
    "        \n",
    "def main():\n",
    "    sammy = Shark()\n",
    "    sammy.swim()\n",
    "    sammy.be_awesome()\n",
    "    \n",
    "    \n",
    "if __name__ == \"__main__\":\n",
    "    main()\n",
    "    "
   ]
  },
  {
   "cell_type": "markdown",
   "metadata": {},
   "source": [
    "## The Constructor Method\n",
    "The constructor method is used to initialize data. It is run as soon as an object of a class is instantiated. Also known as the ```__init__``` method, it will be the first definition of a class and looks like this:"
   ]
  },
  {
   "cell_type": "code",
   "execution_count": 20,
   "metadata": {},
   "outputs": [],
   "source": [
    "class shark:\n",
    "    def __init__(self):\n",
    "        print(\"This is the constructor method.\")   "
   ]
  },
  {
   "cell_type": "markdown",
   "metadata": {},
   "source": [
    "If you added the above ```__init__``` method to the ```Shark``` class in the program above, the program would output the following without your modifying anything within the ```sammy``` instantiation:\n",
    "\n",
    "This is because the **constructor** method is automatically initialized. You should use this method to carry out any initializing you would like to do with your class objects."
   ]
  },
  {
   "cell_type": "code",
   "execution_count": 21,
   "metadata": {},
   "outputs": [
    {
     "name": "stdout",
     "output_type": "stream",
     "text": [
      "This is the constructor method.\n",
      "The shark is swimming.\n",
      "The shark is being awesome.\n"
     ]
    }
   ],
   "source": [
    "class Shark:\n",
    "    def swim(self):\n",
    "        print(\"The shark is swimming.\")\n",
    "        \n",
    "    def be_awesome(self):\n",
    "        print(\"The shark is being awesome.\")\n",
    "\n",
    "    def __init__(self):\n",
    "        print(\"This is the constructor method.\") \n",
    "        \n",
    "        \n",
    "        \n",
    "def main():\n",
    "    sammy = Shark()\n",
    "    sammy.swim()\n",
    "    sammy.be_awesome()\n",
    "    \n",
    "    \n",
    "if __name__ == \"__main__\":\n",
    "    main()"
   ]
  },
  {
   "cell_type": "markdown",
   "metadata": {},
   "source": [
    "Instead of using the constructor method above, let’s create one that uses a ```name``` variable that we can use to assign names to objects. We’ll pass ```name``` as a parameter and set ```self.name``` equal to ```name```:"
   ]
  },
  {
   "cell_type": "code",
   "execution_count": 22,
   "metadata": {},
   "outputs": [],
   "source": [
    "class Shark:\n",
    "    def __init__(self, name):\n",
    "        self.name = name"
   ]
  },
  {
   "cell_type": "markdown",
   "metadata": {},
   "source": [
    "Next, we can modify the strings in our functions to reference the names. Finally, we can set the name of the ```Shark``` object ```sammy``` as equal to ```\"Sammy\"``` by passing it as a parameter of the ```Shark``` class, as the following:"
   ]
  },
  {
   "cell_type": "code",
   "execution_count": 25,
   "metadata": {},
   "outputs": [
    {
     "name": "stdout",
     "output_type": "stream",
     "text": [
      "Sammy is swimming.\n",
      "Sammy is being awesome.\n"
     ]
    }
   ],
   "source": [
    "class Shark:\n",
    "    def __init__(self, name):\n",
    "        self.name = name\n",
    "        \n",
    "    def swim(self):\n",
    "        # Reference the name\n",
    "        print(self.name + \" is swimming.\")\n",
    "        \n",
    "    def be_awesome(self):\n",
    "        # Reference the name\n",
    "        print(self.name + \" is being awesome.\")\n",
    "\n",
    "        \n",
    "        \n",
    "def main():\n",
    "    # set name of Shark object\n",
    "    sammy = Shark(\"Sammy\")\n",
    "    sammy.swim()\n",
    "    sammy.be_awesome()\n",
    "    \n",
    "\n",
    "if __name__ == \"__main__\":\n",
    "    main()"
   ]
  },
  {
   "cell_type": "markdown",
   "metadata": {},
   "source": [
    "We see that the name we passed to the object is being printed out. We defined the ```__init__``` method with the parameter name (along with the ```self``` keyword) and defined a variable within the method.\n",
    "\n",
    "Because the constructor method is automatically initialized, we do not need to explicitly call it, only pass the arguments in the parentheses following the class name when we create a new instance of the class.\n",
    "\n",
    "If we wanted to add another parameter, such as ```age```, we could do so by also passing it to the ```__init__``` method:\n",
    "\n",
    "Then, when we create our object ```sammy```, we can pass Sammy’s age in our statement:\n",
    "\n",
    "To make use of ```age```, we would need to also create a method in the class that calls for it.\n",
    "\n",
    "Constructor methods allow us to initialize certain attributes of an object."
   ]
  },
  {
   "cell_type": "code",
   "execution_count": 42,
   "metadata": {},
   "outputs": [],
   "source": [
    "class Shark:\n",
    "    def __init__(self, name, age):\n",
    "        self.name = name\n",
    "        self.age = age\n",
    "#         print(self.age)\n",
    "#         print(self.name)\n",
    "        \n",
    "sammy = Shark(\"Sammy\", 5)"
   ]
  },
  {
   "cell_type": "markdown",
   "metadata": {},
   "source": [
    "# Working with More Than One Object\n",
    "\n",
    "Classes are useful because they allow us to create many similar objects based on the same blueprint.\n",
    "\n",
    "To get a sense for how this works, let’s add another ```Shark``` object to our program:"
   ]
  },
  {
   "cell_type": "code",
   "execution_count": 46,
   "metadata": {},
   "outputs": [
    {
     "name": "stdout",
     "output_type": "stream",
     "text": [
      "Sammy is being awesome.\n",
      "Stevie is swimming.\n"
     ]
    }
   ],
   "source": [
    "class Shark:\n",
    "    def __init__(self, name):\n",
    "        self.name = name\n",
    "        \n",
    "    def swim(self):\n",
    "        print(self.name + \" is swimming.\")\n",
    "\n",
    "    def be_awesome(self):\n",
    "        print(self.name + \" is being awesome.\")\n",
    "        \n",
    "def main():\n",
    "    sammy = Shark(\"Sammy\")\n",
    "    sammy.be_awesome()\n",
    "    stevie = Shark(\"Stevie\")\n",
    "    stevie.swim()\n",
    "    \n",
    "if __name__ == \"__main__\":\n",
    "    main()"
   ]
  },
  {
   "cell_type": "markdown",
   "metadata": {},
   "source": [
    "We have created a second ```Shark``` object called ```stevie``` and passed the name ```\"Stevie\"``` to it. In this example, we used the ```be_awesome()``` method with ```sammy``` and the ```swim()``` method with ```stevie```.\n",
    "\n",
    "The output shows that we are using two different objects, the ```sammy``` object and the ```stevie``` object, both of the ```Shark``` class.\n",
    "\n",
    "Classes make it possible to create more than one object following the same pattern without creating each one from scratch."
   ]
  },
  {
   "cell_type": "markdown",
   "metadata": {},
   "source": [
    "# Conclusion\n",
    "\n",
    "This tutorial went through creating classes, instantiating objects, initializing attributes with the constructor method, and working with more than one object of the same class.\n",
    "\n",
    "Object-oriented programming is an important concept to understand because it enables code reuse, as objects created for one program can be used in another. Object-oriented programs also make for better program design since complex programs are difficult to write and require careful planning, and this in turn makes it less work to maintain the program over time."
   ]
  },
  {
   "cell_type": "code",
   "execution_count": null,
   "metadata": {},
   "outputs": [],
   "source": [
    "```"
   ]
  }
 ],
 "metadata": {
  "kernelspec": {
   "display_name": "Python 3",
   "language": "python",
   "name": "python3"
  },
  "language_info": {
   "codemirror_mode": {
    "name": "ipython",
    "version": 3
   },
   "file_extension": ".py",
   "mimetype": "text/x-python",
   "name": "python",
   "nbconvert_exporter": "python",
   "pygments_lexer": "ipython3",
   "version": "3.8.3"
  }
 },
 "nbformat": 4,
 "nbformat_minor": 4
}
