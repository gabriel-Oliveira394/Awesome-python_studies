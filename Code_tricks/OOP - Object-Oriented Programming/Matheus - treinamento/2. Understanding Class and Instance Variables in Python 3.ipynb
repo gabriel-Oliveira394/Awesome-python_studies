{
 "cells": [
  {
   "cell_type": "markdown",
   "metadata": {},
   "source": [
    "# Introduction\n",
    "Object-oriented programming allows for variables to be used at the class level or the instance level. **Variables** are essentially symbols that stand in for a value you’re using in a program.\n",
    "\n",
    "At the class level, variables are referred to as **class variables**, whereas variables at the instance level are called **instance variables**.\n",
    "\n",
    "When we expect variables are going to be consistent across instances, or when we would like to initialize a variable, we can define that variable at the class level. When we anticipate the variables will change significantly across instances, we can define them at the instance level.\n",
    "\n",
    "One of the principles of software development is the **DRY** principle, which stands for **don’t repeat yourself**. This principle is geared towards limiting repetition within code, and object-oriented programming adheres to the DRY principle as it reduces redundancy.\n",
    "\n",
    "This tutorial will demonstrate the use of both **class and instance variables** in object-oriented programming within Python.\n",
    "\n",
    "# Prerequisites\n",
    "You should have Python 3 installed and a programming environment set up on your computer or server. If you don’t have a programming environment set up, you can refer to the installation and setup guides for a local programming environment or for a programming environment on your server appropriate for your operating system (Ubuntu, CentOS, Debian, etc.)\n",
    "\n",
    "# Class Variables\n",
    "Class variables are defined within the class construction. Because they are owned by the class itself, class variables are shared by all instances of the class. They therefore will generally have the same value for every instance unless you are using the class variable to initialize a variable.\n",
    "\n",
    "Defined outside of all the methods, class variables are, by convention, typically placed right below the class header and before the constructor method and other methods.\n",
    "\n",
    "A class variable alone looks like the following:\n",
    "\n"
   ]
  },
  {
   "cell_type": "code",
   "execution_count": 1,
   "metadata": {},
   "outputs": [],
   "source": [
    "class Shark:\n",
    "    animal_type = \"fish\""
   ]
  },
  {
   "cell_type": "markdown",
   "metadata": {},
   "source": [
    "Here, the variable ```animal_type``` is assigned the value ```\"fish\"```.\n",
    "\n",
    "We can create an instance of the ```Shark``` class (we’ll call it ```new_shark```) and print the variable by using dot notation:\n",
    "\n",
    "Our program returns the value of the variable."
   ]
  },
  {
   "cell_type": "code",
   "execution_count": 3,
   "metadata": {},
   "outputs": [
    {
     "name": "stdout",
     "output_type": "stream",
     "text": [
      "fish\n"
     ]
    }
   ],
   "source": [
    "class Shark:\n",
    "    animal_type = \"fish\"\n",
    "\n",
    "new_shark = Shark()\n",
    "print(new_shark.animal_type)"
   ]
  },
  {
   "cell_type": "markdown",
   "metadata": {},
   "source": [
    "Let’s add a few more class variables and print them out.\n",
    "\n",
    "Just like with any other variable, class variables can consist of any data type available to us in Python. In this program we have strings and an integer. Let’s run the program again with the python ```shark.py``` command and review the output:"
   ]
  },
  {
   "cell_type": "code",
   "execution_count": 5,
   "metadata": {},
   "outputs": [
    {
     "name": "stdout",
     "output_type": "stream",
     "text": [
      "fish\n",
      "ocean\n",
      "5\n"
     ]
    }
   ],
   "source": [
    "class Shark:\n",
    "    animal_type = \"fish\"\n",
    "    location = \"ocean\"\n",
    "    followers = 5\n",
    "    \n",
    "new_shark = Shark()\n",
    "print(new_shark.animal_type)\n",
    "print(new_shark.location)\n",
    "print(new_shark.followers)"
   ]
  },
  {
   "cell_type": "markdown",
   "metadata": {},
   "source": [
    "The instance of ```new_shark``` is able to access all the class variables and print them out when we run the program.\n",
    "\n",
    "Class variables allow us to define variables upon constructing the class. These variables and their associated values are then accessible to each instance of the class."
   ]
  },
  {
   "cell_type": "markdown",
   "metadata": {},
   "source": [
    "# Instance Variables\n",
    "Instance variables are owned by instances of the class. This means that for each object or instance of a class, the instance variables are different.\n",
    "\n",
    "Unlike class variables, instance variables are defined within methods.\n",
    "\n",
    "In the ```Shark``` class example below, ```name``` and ```age``` are instance variables:"
   ]
  },
  {
   "cell_type": "code",
   "execution_count": 7,
   "metadata": {},
   "outputs": [],
   "source": [
    "class Shark:\n",
    "    def __init__(self, name, age):\n",
    "        self.name = name\n",
    "        self.age = age"
   ]
  },
  {
   "cell_type": "markdown",
   "metadata": {},
   "source": [
    "When we create a ```Shark``` object, we will have to define these variables, which are passed as parameters within the constructor method or another method."
   ]
  },
  {
   "cell_type": "code",
   "execution_count": 11,
   "metadata": {},
   "outputs": [
    {
     "name": "stdout",
     "output_type": "stream",
     "text": [
      "Sammy\n",
      "5\n"
     ]
    }
   ],
   "source": [
    "class shark:\n",
    "    def __init__(self, name, age):\n",
    "        self.name = name\n",
    "        self.age = age\n",
    "        \n",
    "new_shark = Shark(\"Sammy\", 5)\n",
    "print(new_shark.name)\n",
    "print(new_shark.age)"
   ]
  },
  {
   "cell_type": "markdown",
   "metadata": {},
   "source": [
    "The output we receive is made up of the values of the variables that we initialized for the object instance of ```new_shark```.\n",
    "\n",
    "Let’s create another object of the ```Shark``` class called ```stevie```:"
   ]
  },
  {
   "cell_type": "code",
   "execution_count": 13,
   "metadata": {},
   "outputs": [
    {
     "name": "stdout",
     "output_type": "stream",
     "text": [
      "Sammy\n",
      "5\n",
      "Stevie\n",
      "8\n"
     ]
    }
   ],
   "source": [
    "class Shark:\n",
    "    def __init__(self, name, age):\n",
    "        self.name = name\n",
    "        self.age = age\n",
    "        \n",
    "new_shark = Shark(\"Sammy\", 5)\n",
    "print(new_shark.name)\n",
    "print(new_shark.age)\n",
    "\n",
    "stevie = Shark(\"Stevie\", 8)\n",
    "print(stevie.name)\n",
    "print(stevie.age)"
   ]
  },
  {
   "cell_type": "markdown",
   "metadata": {},
   "source": [
    "The ```stevie``` object, like the ```new_shark``` object passes the parameters specific for that instance of the ```Shark``` class to assign values to the instance variables.\n",
    "\n",
    "Instance variables, owned by objects of the class, allow for each object or instance to have different values assigned to those variables."
   ]
  },
  {
   "cell_type": "markdown",
   "metadata": {},
   "source": [
    "# Working with Class and Instance Variables Together\n",
    "\n",
    "Class variables and instance variables will often be utilized at the same time, so let’s look at an example of this using the ```Shark``` class we created. The comments in the program outline each step of the process."
   ]
  },
  {
   "cell_type": "code",
   "execution_count": 19,
   "metadata": {},
   "outputs": [
    {
     "name": "stdout",
     "output_type": "stream",
     "text": [
      "Sammy\n",
      "ocean\n",
      "Stevie\n",
      "This user has 77 followers.\n",
      "77\n",
      "fish\n"
     ]
    }
   ],
   "source": [
    "class Shark:\n",
    "    \n",
    "    #Class variable\n",
    "    animal_type = \"fish\"\n",
    "    location = \"ocean\"\n",
    "    \n",
    "    #Constructor method with instance variables name and age\n",
    "    def __init__(self, name, age):\n",
    "        self.name = name\n",
    "        self.age = age\n",
    "        \n",
    "    # Method with instance variable followers\n",
    "    def set_followers(self, followers):\n",
    "        self.followers = followers\n",
    "        print(\"This user has \" + str(self.followers) + \" followers.\")\n",
    "        \n",
    "\n",
    "def main():\n",
    "    # First object, set up instance variables of constructor method.\n",
    "    sammy = Shark(\"Sammy\", 5)\n",
    "    \n",
    "    # print out instance variable name\n",
    "    print(sammy.name)\n",
    "    \n",
    "    #print out class variable location\n",
    "    print(sammy.location)\n",
    "    \n",
    "    #Second object\n",
    "    stevie = Shark(\"Stevie\", 8)\n",
    "    \n",
    "    #print out instance variable name\n",
    "    print(stevie.name)\n",
    "    \n",
    "    #Use set_followers method and pass followers instance variable\n",
    "    stevie.set_followers(77)\n",
    "    \n",
    "    print(stevie.followers)\n",
    "    \n",
    "    # print out class variable animal_type\n",
    "    print(stevie.animal_type)\n",
    "    \n",
    "if __name__ == \"__main__\":\n",
    "    main()\n",
    "    \n",
    "        \n",
    "        "
   ]
  },
  {
   "cell_type": "markdown",
   "metadata": {},
   "source": [
    "Here, we have made use of both class and instance variables in two objects of the ```Shark``` class, ```sammy``` and ```stevie```."
   ]
  },
  {
   "cell_type": "markdown",
   "metadata": {},
   "source": [
    "# Conclusion\n",
    "In object-oriented programming, variables at the class level are referred to as class variables, whereas variables at the object level are called instance variables.\n",
    "\n",
    "This differentiation allows us to use class variables to initialize objects with a specific value assigned to variables, and use different variables for each object with instance variables.\n",
    "\n",
    "Making use of class- and instance-specific variables can ensure that our code adheres to the DRY principle to reduce repetition within code."
   ]
  }
 ],
 "metadata": {
  "kernelspec": {
   "display_name": "Python 3",
   "language": "python",
   "name": "python3"
  },
  "language_info": {
   "codemirror_mode": {
    "name": "ipython",
    "version": 3
   },
   "file_extension": ".py",
   "mimetype": "text/x-python",
   "name": "python",
   "nbconvert_exporter": "python",
   "pygments_lexer": "ipython3",
   "version": "3.8.3"
  }
 },
 "nbformat": 4,
 "nbformat_minor": 4
}
