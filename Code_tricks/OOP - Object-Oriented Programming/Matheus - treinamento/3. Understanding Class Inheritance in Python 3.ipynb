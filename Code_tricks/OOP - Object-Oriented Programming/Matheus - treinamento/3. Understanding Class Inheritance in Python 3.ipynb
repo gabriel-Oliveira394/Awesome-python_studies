{
 "cells": [
  {
   "cell_type": "markdown",
   "metadata": {},
   "source": [
    "# Introduction\n",
    "Object-oriented programming creates reusable patterns of code to curtail redundancy in development projects. One way that object-oriented programming achieves recyclable code is through inheritance, when one subclass can leverage code from another base class.\n",
    "\n",
    "This tutorial will go through some of the major aspects of inheritance in Python, including how parent classes and child classes work, how to override methods and attributes, how to use the ```super()``` function, and how to make use of multiple inheritance.\n",
    "\n",
    "# Prerequisites\n",
    "You should have Python 3 installed and a programming environment set up on your computer or server. If you don’t have a programming environment set up, you can refer to the installation and setup guides for a local programming environment or for a programming environment on your server appropriate for your operating system (Ubuntu, CentOS, Debian, etc.)\n",
    "\n",
    "# What Is Inheritance?\n",
    "**Inheritance** is when a class uses code constructed within another class. If we think of inheritance in terms of biology, we can think of a child inheriting certain traits from their parent. That is, a child can inherit a parent’s height or eye color. Children also may share the same last name with their parents.\n",
    "\n",
    "Classes called **child classes** or **subclasses** inherit methods and variables from **parent classes** or **base classes**.\n",
    "\n",
    "We can think of a parent class called ```Parent``` that has class variables for ```last_name```, ```height```, and ```eye_color``` that the child class ```Child``` will inherit from the ```Parent```.\n",
    "\n",
    "Because the ```Child``` subclass is inheriting from the ```Parent``` base class, the ```Child``` class can reuse the code of ```Parent```, allowing the programmer to use fewer lines of code and decrease redundancy.\n",
    "\n",
    "# Parent Classes\n",
    "Parent or base classes create a pattern out of which child or subclasses can be based on. Parent classes allow us to create child classes through inheritance without having to write the same code over again each time. Any class can be made into a parent class, so they are each fully functional classes in their own right, rather than just templates.\n",
    "\n",
    "Let’s say we have a general ```Bank_account``` parent class that has ```Personal_account``` and ```Business_account``` child classes. Many of the methods between personal and business accounts will be similar, such as methods to withdraw and deposit money, so those can belong to the parent class of ```Bank_account```. The ```Business_account``` subclass would have methods specific to it, including perhaps a way to collect business records and forms, as well as an ```employee_identification_number``` variable.\n",
    "\n",
    "Similarly, an ```Animal``` class may have ```eating()``` and ```sleeping()``` methods, and a ```Snake``` subclass may include its own specific ```hissing()``` and ```slithering()``` methods.\n",
    "\n",
    "Let’s create a ```Fish``` parent class that we will later use to construct types of fish as its subclasses. Each of these fish will have first names and last names in addition to characteristics.\n",
    "\n",
    "Info: To follow along with the example code in this tutorial, open a Python interactive shell on your local system by running the python3 command. Then you can copy, paste, or edit the examples by adding them after the >>> prompt.\n",
    "\n",
    "We’ll create a new file called ```fish.py``` and start with the ```__init__()``` constructor method, which we’ll populate with ```first_name``` and ```last_name``` class variables for each ```Fish``` object or subclass.\n",
    "\n",
    "We have initialized our ```last_name``` variable with the string ```\"Fish\"``` because we know that most fish will have this as their last name."
   ]
  },
  {
   "cell_type": "code",
   "execution_count": 1,
   "metadata": {},
   "outputs": [],
   "source": [
    "class Fish:\n",
    "    def __init__(self, first_name, last_name = \"Fish\"):\n",
    "        self.first_name = first_name\n",
    "        self.last_name = last_name\n",
    "        \n",
    "    def swim(self):\n",
    "        print(\"The fish is swimming.\")\n",
    "        \n",
    "    def swim_bachwards(self):\n",
    "        print(\"The fish can swim backwards.\")\n",
    "        "
   ]
  },
  {
   "cell_type": "markdown",
   "metadata": {},
   "source": [
    "We have added the methods ```swim()``` and ```swim_backwards()``` to the ```Fish``` class, so that every subclass will also be able to make use of these methods.\n",
    "\n",
    "Since most of the fish we’ll be creating are considered to be bony fish (as in they have a skeleton made out of bone) rather than cartilaginous fish (as in they have a skeleton made out of cartilage), we can add a few more attributes to the ```__init__()``` method:\n",
    "\n",
    "Building a parent class follows the same methodology as building any other class, except we are thinking about what methods the child classes will be able to make use of once we create those."
   ]
  },
  {
   "cell_type": "code",
   "execution_count": 2,
   "metadata": {},
   "outputs": [],
   "source": [
    "class Fish:\n",
    "    def __init__(self, first_name, last_name = \"Fish\",\n",
    "                 skeleton = \"bone\", eyelids=False):\n",
    "        self.first_name = first_name\n",
    "        self.last_name = last_name\n",
    "        self.skeleton = skeleton\n",
    "        self.eyelids = eyelids\n",
    "        \n",
    "    def swim(self):\n",
    "        print(\"The fish is swimming.\")\n",
    "        \n",
    "    def swim_bachwards(self):\n",
    "        print(\"The fish can swim backwards.\")\n",
    "        "
   ]
  },
  {
   "cell_type": "markdown",
   "metadata": {},
   "source": [
    "# Child Classes\n",
    "Child or subclasses are classes that will inherit from the parent class. That means that each child class will be able to make use of the methods and variables of the parent class.\n",
    "\n",
    "For example, a ```Goldfish``` child class that subclasses the ```Fish``` class will be able to make use of the ```swim()``` method declared in ```Fish``` without needing to declare it.\n",
    "\n",
    "We can think of each child class as being a class of the parent class. That is, if we have a child class called ```Rhombus``` and a parent class called ```Parallelogram```, we can say that a ```Rhombus``` is a ```Parallelogram```, just as a ```Goldfish``` is a ```Fish```.\n",
    "\n",
    "The first line of a child class looks a little different than non-child classes as you must pass the parent class into the child class as a parameter:\n",
    "\n",
    "The ```Trout``` class is a child of the ```Fish``` class. We know this because of the inclusion of the word ```Fish``` in parentheses.\n",
    "\n",
    "With child classes, we can choose to add more methods, override existing parent methods, or accept the default parent methods with the pass keyword, which we’ll do in this case:"
   ]
  },
  {
   "cell_type": "code",
   "execution_count": 3,
   "metadata": {},
   "outputs": [],
   "source": [
    "class Trout(Fish):\n",
    "    pass"
   ]
  },
  {
   "cell_type": "markdown",
   "metadata": {},
   "source": [
    "We can now create a ```Trout``` object without having to define any additional methods.\n",
    "\n",
    "We have created a ```Trout``` object ```terry``` that makes use of each of the methods of the ```Fish``` class even though we did not define those methods in the ```Trout``` child class. We only needed to pass the value of ```\"Terry\"``` to the ```first_name``` variable because all of the other variables were initialized.\n",
    "\n",
    "When we run the program, we’ll receive the following output:"
   ]
  },
  {
   "cell_type": "code",
   "execution_count": 11,
   "metadata": {},
   "outputs": [
    {
     "name": "stdout",
     "output_type": "stream",
     "text": [
      "Terry Fish\n",
      "bone\n",
      "False\n",
      "The fish is swimming.\n",
      "The fish can swim backwards.\n"
     ]
    }
   ],
   "source": [
    "class Fish:\n",
    "    def __init__(self, first_name, last_name = \"Fish\",\n",
    "                 skeleton = \"bone\", eyelids=False):\n",
    "        self.first_name = first_name\n",
    "        self.last_name = last_name\n",
    "        self.skeleton = skeleton\n",
    "        self.eyelids = eyelids\n",
    "        \n",
    "    def swim(self):\n",
    "        print(\"The fish is swimming.\")\n",
    "        \n",
    "    def swim_bachwards(self):\n",
    "        print(\"The fish can swim backwards.\")\n",
    "\n",
    "class Trout(Fish):\n",
    "    pass\n",
    "\n",
    "\n",
    "terry = Trout(\"Terry\")\n",
    "print(terry.first_name + \" \" + terry.last_name)\n",
    "print(terry.skeleton)\n",
    "print(terry.eyelids) # variáveis\n",
    "terry.swim() # método\n",
    "terry.swim_bachwards()\n"
   ]
  },
  {
   "cell_type": "markdown",
   "metadata": {},
   "source": [
    "Next, let’s create another child class that includes its own method. We’ll call this class ```Clownfish```, and its special method will permit it to live with sea anemone. Next, let’s create a ```Clownfish``` object to see how this works:"
   ]
  },
  {
   "cell_type": "code",
   "execution_count": 23,
   "metadata": {},
   "outputs": [
    {
     "name": "stdout",
     "output_type": "stream",
     "text": [
      "Casey Fish\n",
      "The fish is swimming.\n",
      "The clownfish is coexisting with sea anemone.\n"
     ]
    }
   ],
   "source": [
    "class Fish:\n",
    "    def __init__(self, first_name, last_name = \"Fish\",\n",
    "                 skeleton = \"bone\", eyelids=False):\n",
    "        self.first_name = first_name\n",
    "        self.last_name = last_name\n",
    "        self.skeleton = skeleton\n",
    "        self.eyelids = eyelids\n",
    "        \n",
    "    def swim(self):\n",
    "        print(\"The fish is swimming.\")\n",
    "        \n",
    "    def swim_bachwards(self):\n",
    "        print(\"The fish can swim backwards.\")\n",
    "\n",
    "        \n",
    "class Trout(Fish):\n",
    "    pass\n",
    "\n",
    "\n",
    "class Clownfish(Fish):\n",
    "    \n",
    "    def live_with_anemone(self):\n",
    "        print(\"The clownfish is coexisting with sea anemone.\")\n",
    "        \n",
    "        \n",
    "casey = Clownfish(\"Casey\")\n",
    "print(casey.first_name + \" \" + casey.last_name)\n",
    "casey.swim()\n",
    "casey.live_with_anemone()"
   ]
  },
  {
   "cell_type": "markdown",
   "metadata": {},
   "source": [
    "The output shows that the ```Clownfish``` object ```casey``` is able to use the ```Fish``` methods ```__init__()``` and ```swim()``` as well as its child class method of ```live_with_anemone()```.\n",
    "\n",
    "If we try to use the ```live_with_anemone()``` method in a ```Trout``` object, we’ll receive an error:"
   ]
  },
  {
   "cell_type": "code",
   "execution_count": 24,
   "metadata": {},
   "outputs": [
    {
     "ename": "AttributeError",
     "evalue": "'Trout' object has no attribute 'live_with_anemone'",
     "output_type": "error",
     "traceback": [
      "\u001b[1;31m---------------------------------------------------------------------------\u001b[0m",
      "\u001b[1;31mAttributeError\u001b[0m                            Traceback (most recent call last)",
      "\u001b[1;32m<ipython-input-24-af868852b370>\u001b[0m in \u001b[0;36m<module>\u001b[1;34m\u001b[0m\n\u001b[1;32m----> 1\u001b[1;33m \u001b[0mterry\u001b[0m\u001b[1;33m.\u001b[0m\u001b[0mlive_with_anemone\u001b[0m\u001b[1;33m(\u001b[0m\u001b[1;33m)\u001b[0m\u001b[1;33m\u001b[0m\u001b[1;33m\u001b[0m\u001b[0m\n\u001b[0m",
      "\u001b[1;31mAttributeError\u001b[0m: 'Trout' object has no attribute 'live_with_anemone'"
     ]
    }
   ],
   "source": [
    "terry.live_with_anemone()"
   ]
  },
  {
   "cell_type": "markdown",
   "metadata": {},
   "source": [
    "This is because the method ```live_with_anemone()``` belongs only to the ```Clownfish``` child class, and not the ```Fish``` parent class.\n",
    "\n",
    "Child classes inherit the methods of the parent class it belongs to, so each child class can make use of those methods within programs."
   ]
  },
  {
   "cell_type": "markdown",
   "metadata": {},
   "source": [
    "# Overriding Parent Methods\n",
    "So far, we have looked at the child class ```Trout``` that made use of the ```pass``` keyword to inherit all of the parent class ```Fish``` behaviors, and another child class ```Clownfish``` that inherited all of the parent class behaviors and also created its own unique method that is specific to the child class. Sometimes, however, we will want to make use of some of the parent class behaviors but not all of them. When we change parent class methods we override them.\n",
    "\n",
    "When constructing parent and child classes, it is important to keep program design in mind so that overriding does not produce unnecessary or redundant code.\n",
    "\n",
    "We’ll create a ```Shark``` child class of the ```Fish``` parent class. Because we created the ```Fish``` class with the idea that we would be creating primarily bony fish, we’ll have to make adjustments for the ```Shark``` class that is instead a cartilaginous fish. In terms of program design, if we had more than one non-bony fish, we would most likely want to make separate classes for each of these two types of fish.\n",
    "\n",
    "Sharks, unlike bony fish, have skeletons made of cartilage instead of bone. They also have eyelids and are unable to swim backwards. Sharks can, however, maneuver themselves backwards by sinking.\n",
    "\n",
    "In light of this, we’ll be overriding the ```__init__()``` constructor method and the ```swim_backwards()``` method. We don’t need to modify the ```swim()``` method since sharks are fish that can swim. Let’s review this child class:"
   ]
  },
  {
   "cell_type": "code",
   "execution_count": 30,
   "metadata": {},
   "outputs": [],
   "source": [
    "class Fish:\n",
    "    def __init__(self, first_name, last_name = \"Fish\",\n",
    "                 skeleton = \"bone\", eyelids=False):\n",
    "        self.first_name = first_name\n",
    "        self.last_name = last_name\n",
    "        self.skeleton = skeleton\n",
    "        self.eyelids = eyelids\n",
    "        \n",
    "    def swim(self):\n",
    "        print(\"The fish is swimming.\")\n",
    "        \n",
    "    def swim_bachwards(self):\n",
    "        print(\"The fish can swim backwards.\")\n",
    "\n",
    "        \n",
    "class Trout(Fish):\n",
    "    pass\n",
    "\n",
    "\n",
    "class Clownfish(Fish):\n",
    "    \n",
    "    def live_with_anemone(self):\n",
    "        print(\"The clownfish is coexisting with sea anemone.\")\n",
    "        \n",
    "\n",
    "class Shark(Fish):\n",
    "    def __init__(self, first_name, last_name=\"Shark\", \n",
    "                 skeleton=\"cartilage\", eyelids=True):\n",
    "        self.first_name = first_name\n",
    "        self.last_name = last_name\n",
    "        self.skeleton = skeleton\n",
    "        self.eyelids = eyelids\n",
    "        \n",
    "    def swim_backwards(self):\n",
    "        print(\"The shark cannot swim backwards, but can sink backwards.\")\n",
    "        \n",
    "        "
   ]
  },
  {
   "cell_type": "markdown",
   "metadata": {},
   "source": [
    "We have overridden the initialized parameters in the ```__init__()``` method, so that the ```last_name``` variable is now set equal to the string ```\"Shark\"```, the ```skeleton``` variable is now set equal to the string ```\"cartilage\"```, and the ```eyelids``` variable is now set to the Boolean value ```True```. Each instance of the class can also override these parameters.\n",
    "\n",
    "The method ```swim_backwards()``` now prints a different string than the one in the ```Fish``` parent class because sharks are not able to swim backwards in the way that bony fish can.\n",
    "\n",
    "We can now create an instance of the ```Shark``` child class, which will still make use of the ```swim()``` method of the ```Fish``` parent class:"
   ]
  },
  {
   "cell_type": "code",
   "execution_count": 32,
   "metadata": {},
   "outputs": [
    {
     "name": "stdout",
     "output_type": "stream",
     "text": [
      "Sammy Shark\n",
      "The fish is swimming.\n",
      "The shark cannot swim backwards, but can sink backwards.\n",
      "True\n",
      "cartilage\n"
     ]
    }
   ],
   "source": [
    "sammy = Shark(\"Sammy\")\n",
    "print(sammy.first_name + \" \" + sammy.last_name)\n",
    "sammy.swim()\n",
    "sammy.swim_backwards()\n",
    "print(sammy.eyelids)\n",
    "print(sammy.skeleton)"
   ]
  },
  {
   "cell_type": "markdown",
   "metadata": {},
   "source": [
    "The ```Shark``` child class successfully overrode the ```__init__()``` and ```swim_backwards()``` methods of the ```Fish``` parent class, while also inheriting the ```swim()``` method of the parent class.\n",
    "\n",
    "When there will be a limited number of child classes that are more unique than others, overriding parent class methods can prove to be useful."
   ]
  },
  {
   "cell_type": "markdown",
   "metadata": {},
   "source": [
    "# The super() Function\n",
    "With the ```super()``` function, you can gain access to inherited methods that have been overwritten in a class object.\n",
    "\n",
    "When we use the ```super()``` function, we are calling a parent method into a child method to make use of it. For example, we may want to override one aspect of the parent method with certain functionality, but then call the rest of the original parent method to finish the method.\n",
    "\n",
    "In a program that grades students, we may want to have a child class for ```Weighted_grade``` that inherits from the ```Grade``` parent class. In the child class ```Weighted_grade```, we may want to override a ```calculate_grade()``` method of the parent class in order to include functionality to calculate a weighted grade, but still keep the rest of the functionality of the original class. By invoking the ```super()``` function we would be able to achieve this.\n",
    "\n",
    "The ```super()``` function is most commonly used within the ```__init__()``` method because that is where you will most likely need to add some uniqueness to the child class and then complete initialization from the parent.\n",
    "\n",
    "To see how this works, let’s modify our ```Trout``` child class. Since trout are typically freshwater fish, let’s add a ```water``` variable to the ```__init__()``` method and set it equal to the string ```\"freshwater\"```, but then maintain the rest of the parent class’s variables and parameters:"
   ]
  },
  {
   "cell_type": "code",
   "execution_count": 39,
   "metadata": {},
   "outputs": [],
   "source": [
    "class Fish:\n",
    "    def __init__(self, first_name, last_name=\"Fish\",\n",
    "                skeleton=\"bone\", eyelids=False):\n",
    "        self.first_name = first_name\n",
    "        self.last_name = last_name\n",
    "        self.skeleton = skeleton\n",
    "        self.eyelids = eyelids\n",
    "    \n",
    "    def swim(self):\n",
    "        print(\"The fish is swimming.\")\n",
    "        \n",
    "    def swim_backwards(self):\n",
    "        print(\"The fish can swim backwards\")\n",
    "        \n",
    "        \n",
    "class Trout(Fish):\n",
    "    def __init__(self, water=\"freshwater\"):\n",
    "        self.water = water\n",
    "        super().__init__(self)\n",
    "\n",
    "\n",
    "class Clownfish(Fish):\n",
    "    \n",
    "    def live_with_anemone(self):\n",
    "        print(\"The clownfish is coexisting with sea anemone.\")\n",
    "        \n",
    "\n",
    "class shark(Fish):\n",
    "    def __init__(self, first_name, last_name=\"Shark\",\n",
    "                 skeleton=\"cartilage\", eyelids=True):\n",
    "        self.first_name = first_name\n",
    "        self.last_name = last_name\n",
    "        self.skeleton = skeleton\n",
    "        self.eyelids = eyelids\n",
    "        \n",
    "    \n",
    "    def swim_backwards(self):\n",
    "        print(\"The shark cannot swim backwards, but can sink backwards.\")\n"
   ]
  },
  {
   "cell_type": "markdown",
   "metadata": {},
   "source": [
    "We have overridden the ```__init__()``` method in the ```Trout``` child class, providing a different implementation of the ```__init__()``` that is already defined by its parent class ```Fish```. Within the ```__init__()``` method of our ```Trout``` class we have explicitly invoked the ```__init__()``` method of the ```Fish``` class.\n",
    "\n",
    "Because we have overridden the method, we no longer need to pass ```first_name``` in as a parameter to ```Trout```, and if we did pass in a parameter, we would reset ```freshwater``` instead. We will therefore initialize the ```first_name``` by calling the variable in our object instance.\n",
    "\n",
    "Now we can invoke the initialized variables of the parent class and also make use of the unique child variable. Let’s use this in an instance of ```Trout```:"
   ]
  },
  {
   "cell_type": "code",
   "execution_count": 43,
   "metadata": {},
   "outputs": [
    {
     "name": "stdout",
     "output_type": "stream",
     "text": [
      "Terry Fish\n",
      "False\n",
      "freshwater\n",
      "The fish is swimming.\n"
     ]
    }
   ],
   "source": [
    "terry = Trout()\n",
    "\n",
    "# Initialize first name\n",
    "terry.first_name = \"Terry\"\n",
    "\n",
    "# Use parent __init__() through super()\n",
    "print(terry.first_name + \" \" + terry.last_name)\n",
    "print(terry.eyelids)\n",
    "\n",
    "# Use child __init__() override\n",
    "print(terry.water)\n",
    "\n",
    "# Use parent swim() method\n",
    "terry.swim()"
   ]
  },
  {
   "cell_type": "markdown",
   "metadata": {},
   "source": [
    "The output shows that the object ```terry``` of the ```Trout``` child class is able to make use of both the child-specific ```__init__()``` variable ```water``` while also being able to call the ```Fish``` parent ```__init__()``` variables of ```first_name```, ```last_name```, and ```eyelids```.\n",
    "\n",
    "The built-in Python function ```super()``` allows us to utilize parent class methods even when overriding certain aspects of those methods in our child classes."
   ]
  },
  {
   "cell_type": "markdown",
   "metadata": {},
   "source": [
    "# Multiple Inheritance\n",
    "Multiple inheritance is when a class can inherit attributes and methods from more than one parent class. This can allow programs to reduce redundancy, but it can also introduce a certain amount of complexity as well as ambiguity, so it should be done with thought to overall program design.\n",
    "\n",
    "To show how multiple inheritance works, let’s create a ```Coral_reef``` child class than inherits from a ```Coral``` class and a ```Sea_anemone``` class. We can create a method in each and then use the pass keyword in the ```Coral_reef``` child class: "
   ]
  },
  {
   "cell_type": "code",
   "execution_count": 45,
   "metadata": {},
   "outputs": [],
   "source": [
    "class Coral:\n",
    "    \n",
    "    def community(self):\n",
    "        print(\"Coral lives in a community.\")\n",
    "        \n",
    "        \n",
    "class Anemone:\n",
    "    \n",
    "    def protect_clownfish(self):\n",
    "        print(\"The anemone is protecting the clownfish.\")\n",
    "        \n",
    "\n",
    "class CoralReef(Coral, Anemone):\n",
    "    pass\n",
    "\n"
   ]
  },
  {
   "cell_type": "markdown",
   "metadata": {},
   "source": [
    "The ```Coral``` class has a method called ```community()``` that prints one line, and the ```Anemone``` class has a method called ```protect_clownfish()``` that prints another line. Then we call both classes into the inheritance tuple. This means that ```CoralReef``` is inheriting from two parent classes.\n",
    "\n",
    "Let’s now instantiate a ```CoralReef``` object:\n",
    "\n",
    "\n",
    "The object ```great_barrier``` is set as a ```CoralReef``` object, and can use the methods in both parent classes. When we run the program, we’ll see the following output:"
   ]
  },
  {
   "cell_type": "code",
   "execution_count": 49,
   "metadata": {},
   "outputs": [
    {
     "name": "stdout",
     "output_type": "stream",
     "text": [
      "Coral lives in a community.\n",
      "The anemone is protecting the clownfish.\n"
     ]
    }
   ],
   "source": [
    "great_barrier = CoralReef()\n",
    "great_barrier.community()\n",
    "great_barrier.protect_clownfish()"
   ]
  },
  {
   "cell_type": "markdown",
   "metadata": {},
   "source": [
    "The output shows that methods from both parent classes were effectively used in the child class.\n",
    "\n",
    "Multiple inheritance allows us to use the code from more than one parent class in a child class. If the same method is defined in multiple parent methods, the child class will use the method of the first parent declared in its tuple list.\n",
    "\n",
    "Though it can be used effectively, multiple inheritance should be done with care so that our programs do not become ambiguous and difficult for other programmers to understand."
   ]
  },
  {
   "cell_type": "markdown",
   "metadata": {},
   "source": [
    "# Conclusion\n",
    "This tutorial went through constructing parent classes and child classes, overriding parent methods and attributes within child classes, using the ```super()``` function, and allowing for child classes to inherit from multiple parent classes.\n",
    "\n",
    "Inheritance in object-oriented coding can allow for adherence to the DRY (don’t repeat yourself) principle of software development, allowing for more to be done with less code and repetition. Inheritance also compels programmers to think about how they are designing the programs they are creating to ensure that code is effective and clear. "
   ]
  }
 ],
 "metadata": {
  "kernelspec": {
   "display_name": "Python 3",
   "language": "python",
   "name": "python3"
  },
  "language_info": {
   "codemirror_mode": {
    "name": "ipython",
    "version": 3
   },
   "file_extension": ".py",
   "mimetype": "text/x-python",
   "name": "python",
   "nbconvert_exporter": "python",
   "pygments_lexer": "ipython3",
   "version": "3.8.3"
  }
 },
 "nbformat": 4,
 "nbformat_minor": 4
}
