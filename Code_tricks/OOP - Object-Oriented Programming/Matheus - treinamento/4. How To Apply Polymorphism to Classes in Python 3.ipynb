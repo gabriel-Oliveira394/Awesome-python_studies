{
 "cells": [
  {
   "cell_type": "markdown",
   "metadata": {},
   "source": [
    "# Introduction\n",
    "Polymorphism is the ability to leverage the same interface for different underlying forms such as data types or classes. This permits functions to use entities of different types at different times.\n",
    "\n",
    "For object-oriented programming in Python, this means that a particular object belonging to a particular class can be used in the same way as if it were a different object belonging to a different class.\n",
    "\n",
    "Polymorphism allows for flexibility and loose coupling so that code can be extended and easily maintained over time.\n",
    "\n",
    "This tutorial will go through applying polymorphism to classes in Python.\n",
    "\n",
    "\n",
    "# Prerequisites\n",
    "You should have Python 3 installed and a programming environment set up on your computer or server. If you don’t have a programming environment set up, you can refer to the installation and setup guides for a local programming environment or for a programming environment on your server appropriate for your operating system (Ubuntu, CentOS, Debian, etc.)\n",
    "\n",
    "# What Is Polymorphism?\n",
    "Polymorphism is an important feature of class definition in Python that is utilized when you have commonly named methods across classes or subclasses. This allows functions to use objects of any of these polymorphic classes without needing to be aware of distinctions across the classes.\n",
    "\n",
    "Polymorphism can be carried out through inheritance, with subclasses making use of base class methods or overriding them.\n",
    "\n",
    "Python’s duck typing, a special case of dynamic typing, uses techniques characteristic of polymorphism, including late binding and dynamic dispatch. The term “duck typing” is derived from a quote of writer James Whitcomb Riley: “When I see a bird that walks like a duck and swims like a duck and quacks like a duck, I call that bird a duck.” Appropriated by Italian computer engineer Alex Martelli in a message to the comp.lang.python newsgroup, the use of duck typing is concerned with establishing the suitability of an object for a specific purpose. When using normal typing this suitability is determined by the type of an object alone, but with duck typing the presence of methods and properties are used to determine suitability rather than the actual type of the object in question. That is to say, you check whether the object quacks like a duck and walks like a duck rather than asking whether the object is a duck.\n",
    "\n",
    "When several classes or subclasses have the same method names, but different implementations for these same methods, the classes are polymorphic because they are using a single interface to use with entities of different types. A function will be able to evaluate these polymorphic methods without knowing which classes are invoked.\n",
    "\n",
    "# Creating Polymorphic Classes\n",
    "To make use of polymorphism, we’re going to create two distinct classes to use with two distinct objects. Each of these distinct classes need to have an interface that is in common so that they can be used polymorphically, so we will give them methods that are distinct but that have the same name.\n",
    "\n",
    "Info: To follow along with the example code in this tutorial, open a Python interactive shell on your local system by running the python3 command. Then you can copy, paste, or edit the examples by adding them after the >>> prompt.\n",
    "\n",
    "We’ll create a ```Shark``` class and a ```Clownfish``` class, each of which will define methods for ```swim()```, ```swim_backwards()```, and ```skeleton()```.\n",
    "\n",
    "\n",
    "In the code below, both the ```Shark``` and ```Clownfish``` class have three methods with the same name in common. However, each of the functionalities of these methods differ for each class.\n",
    "\n",
    "Let’s instantiate these classes into two objects:"
   ]
  },
  {
   "cell_type": "code",
   "execution_count": 24,
   "metadata": {
    "scrolled": true
   },
   "outputs": [
    {
     "name": "stdout",
     "output_type": "stream",
     "text": [
      "The shark's skeleton is made of cartilage.\n",
      "The clownfish's skeleton is made of bone.\n"
     ]
    }
   ],
   "source": [
    "class Shark():\n",
    "    def swim(self):\n",
    "        print(\"The Shark is swimming.\")\n",
    "        \n",
    "    def swim_backwards(self):\n",
    "        print(\"The Shark cannot swim backwards, but can sink backwards.\")\n",
    "        \n",
    "    def skeleton(self):\n",
    "        print(\"The shark's skeleton is made of cartilage.\")\n",
    "        \n",
    "\n",
    "class Clownfish():\n",
    "    def swim(self):\n",
    "        print(\"The clownfish is swimming.\")\n",
    "        \n",
    "    def swim_backwards(self):\n",
    "        print(\"The clownfish can swim backwards.\")\n",
    "        \n",
    "    def skeleton(self):\n",
    "        print(\"The clownfish's skeleton is made of bone.\") \n",
    "        \n",
    "\n",
    "sammy = Shark()\n",
    "sammy.skeleton()\n",
    "\n",
    "casey = Clownfish()\n",
    "casey.skeleton()"
   ]
  },
  {
   "cell_type": "markdown",
   "metadata": {},
   "source": [
    "# Polymorphism with Class Methods\n",
    "To show how Python can use each of these different class types in the same way, we can first create a ```for``` loop that iterates through a tuple of objects. Then we can call the methods without being concerned about which class type each object is. We will only assume that these methods actually exist in each class.\n",
    "\n",
    "We have two objects, ```sammy``` of the ```Shark``` class, and ```casey``` of the ```Clownfish``` class. Our ```for``` loop iterates through these objects, calling the ```swim()```, ```swim_backwards()```, and ```skeleton()``` methods on each.\n",
    "\n",
    "\n",
    "The ```for``` loop iterated first through the ```sammy``` instantiation of the ```Shark``` class, then the ```casey``` object of the ```Clownfish``` class, so we see the methods related to the ```Shark``` class first, then the ```Clownfish``` class.\n",
    "\n",
    "This shows that Python is using these methods in a way without knowing or caring exactly what class type each of these objects is. That is, using these methods in a polymorphic way.\n",
    "\n",
    "\n",
    "When we run the program, the output will be as follows:"
   ]
  },
  {
   "cell_type": "code",
   "execution_count": 25,
   "metadata": {},
   "outputs": [
    {
     "name": "stdout",
     "output_type": "stream",
     "text": [
      "The Shark is swimming.\n",
      "The Shark cannot swim backwards, but can sink backwards.\n",
      "The shark's skeleton is made of cartilage.\n",
      "The clownfish is swimming.\n",
      "The clownfish can swim backwards.\n",
      "The clownfish's skeleton is made of bone.\n"
     ]
    }
   ],
   "source": [
    "sammy = Shark()\n",
    "\n",
    "casey = Clownfish()\n",
    "\n",
    "for fish in (sammy, casey):\n",
    "    fish.swim()\n",
    "    fish.swim_backwards()\n",
    "    fish.skeleton()"
   ]
  },
  {
   "cell_type": "markdown",
   "metadata": {},
   "source": [
    "Now that we have two objects that make use of a common interface, we can use the two objects in the same way regardless of their individual types."
   ]
  },
  {
   "cell_type": "markdown",
   "metadata": {},
   "source": [
    "# Polymorphism with a Function\n",
    "We can also create a function that can take any object, allowing for polymorphism.\n",
    "\n",
    "Let’s create a function called ```in_the_pacific()``` which takes in an object we can call ```fish```. Though we are using the name ```fish```, any instantiated object will be able to be called into this function:\n",
    "\n",
    "Next, we’ll give the function something to do that uses the ```fish``` object we passed to it. In this case we’ll call the ```swim()``` methods, each of which is defined in the two classes ```Shark``` and ```Clownfish```:\n",
    "\n",
    "Next, we’ll create instantiations of both the ```Shark``` and ```Clownfish``` classes if we don’t have them already. With those, we can call their action using the same ```in_the_pacific()``` function:"
   ]
  },
  {
   "cell_type": "code",
   "execution_count": 30,
   "metadata": {},
   "outputs": [
    {
     "name": "stdout",
     "output_type": "stream",
     "text": [
      "The Shark is swimming.\n",
      "The clownfish is swimming.\n"
     ]
    }
   ],
   "source": [
    "def in_the_pacific(fish):\n",
    "    fish.swim()\n",
    "    \n",
    "sammy = Shark()\n",
    "\n",
    "casey = Clownfish()\n",
    "\n",
    "in_the_pacific(sammy)\n",
    "in_the_pacific(casey)"
   ]
  },
  {
   "cell_type": "markdown",
   "metadata": {},
   "source": [
    "Even though we passed a random object (```fish```) into the ```in_the_pacific()``` function when defining it, we were still able to use it effectively for instantiations of the ```Shark``` and ```Clownfish``` classes. The ```casey``` object called the ```swim()``` method defined in the ```Clownfish``` class, and the ```sammy``` object called the ```swim()``` method defined in the ```Shark``` class.\n",
    "\n",
    "# Conclusion\n",
    "By allowing different objects to leverage functions and methods in similar ways through polymorphism, making use of this Python feature provides greater flexibility and extendability of your object-oriented code."
   ]
  },
  {
   "cell_type": "code",
   "execution_count": null,
   "metadata": {},
   "outputs": [],
   "source": []
  }
 ],
 "metadata": {
  "kernelspec": {
   "display_name": "Python 3",
   "language": "python",
   "name": "python3"
  },
  "language_info": {
   "codemirror_mode": {
    "name": "ipython",
    "version": 3
   },
   "file_extension": ".py",
   "mimetype": "text/x-python",
   "name": "python",
   "nbconvert_exporter": "python",
   "pygments_lexer": "ipython3",
   "version": "3.8.3"
  }
 },
 "nbformat": 4,
 "nbformat_minor": 4
}
