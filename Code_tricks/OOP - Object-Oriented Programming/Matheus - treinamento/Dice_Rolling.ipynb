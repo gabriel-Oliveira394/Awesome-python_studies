{
 "cells": [
  {
   "cell_type": "markdown",
   "metadata": {},
   "source": [
    "Like the title suggests, this project involves writing a program that simulates rolling dice. When the program runs, it will randomly choose a number between 1 and 6. (Or whatever other integer you prefer — the number of sides on the die is up to you.) The program will print what that number is. It should then ask you if you’d like to roll again. For this project, you’ll need to set the min and max number that your dice can produce. For the average die, that means a minimum of 1 and a maximum of 6. You’ll also want a function that randomly grabs a number within that range and prints it."
   ]
  },
  {
   "cell_type": "code",
   "execution_count": 156,
   "metadata": {},
   "outputs": [
    {
     "name": "stdout",
     "output_type": "stream",
     "text": [
      "Roll dice? (y/n):y\n",
      "3\n",
      "Roll dice? (y/n):y\n",
      "4\n",
      "Roll dice? (y/n):g\n",
      "You must type 'y' or 'n'! Try again...\n",
      "Roll dice? (y/n):n\n",
      "0\n"
     ]
    }
   ],
   "source": [
    "from random import randint\n",
    "\n",
    "class DiceRolling:\n",
    "    \"\"\"Rolling a dice.\"\"\"\n",
    "    \n",
    "    def number():\n",
    "        return randint(1,6)\n",
    "        \n",
    "    repeat = True\n",
    "    while repeat:\n",
    "        numb = input(\"Roll dice? (y/n):\")\n",
    "\n",
    "        \n",
    "        if numb == 'y':\n",
    "            print(number())\n",
    "            \n",
    "        elif numb == 'n':\n",
    "            print(\"0\")\n",
    "            repeat = False\n",
    "            \n",
    "        else:\n",
    "            print(\"You must type 'y' or 'n'! Try again...\")\n",
    "            \n",
    "        \n",
    "\n"
   ]
  },
  {
   "cell_type": "code",
   "execution_count": 142,
   "metadata": {},
   "outputs": [
    {
     "name": "stdout",
     "output_type": "stream",
     "text": [
      "Qual o numbf\n"
     ]
    },
    {
     "data": {
      "text/plain": [
       "'f'"
      ]
     },
     "execution_count": 142,
     "metadata": {},
     "output_type": "execute_result"
    }
   ],
   "source": [
    "input(\"Qual o numb\")"
   ]
  },
  {
   "cell_type": "code",
   "execution_count": 133,
   "metadata": {},
   "outputs": [
    {
     "name": "stdout",
     "output_type": "stream",
     "text": [
      "6\n",
      "None\n"
     ]
    }
   ],
   "source": [
    "from random import randrange\n",
    "\n",
    "minNumb = 1\n",
    "maxNumb = 6\n",
    "\n",
    "c = print(randrange(minNumb, maxNumb+1))\n",
    "\n",
    "print(c)"
   ]
  },
  {
   "cell_type": "code",
   "execution_count": 134,
   "metadata": {},
   "outputs": [
    {
     "name": "stdout",
     "output_type": "stream",
     "text": [
      "You rolled 5\n",
      "Do you want to roll again?\n",
      "y\n",
      "You rolled 5\n",
      "Do you want to roll again?\n",
      "y\n",
      "You rolled 4\n",
      "Do you want to roll again?\n",
      "YES\n",
      "You rolled 6\n",
      "Do you want to roll again?\n",
      "Yes\n",
      "You rolled 1\n",
      "Do you want to roll again?\n",
      "y\n",
      "You rolled 3\n",
      "Do you want to roll again?\n",
      "N\n"
     ]
    }
   ],
   "source": []
  }
 ],
 "metadata": {
  "kernelspec": {
   "display_name": "Python 3",
   "language": "python",
   "name": "python3"
  },
  "language_info": {
   "codemirror_mode": {
    "name": "ipython",
    "version": 3
   },
   "file_extension": ".py",
   "mimetype": "text/x-python",
   "name": "python",
   "nbconvert_exporter": "python",
   "pygments_lexer": "ipython3",
   "version": "3.8.3"
  }
 },
 "nbformat": 4,
 "nbformat_minor": 4
}
